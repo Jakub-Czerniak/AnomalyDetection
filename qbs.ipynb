{
 "cells": [
  {
   "cell_type": "code",
   "execution_count": 5,
   "id": "8b67d27c",
   "metadata": {},
   "outputs": [
    {
     "name": "stdout",
     "output_type": "stream",
     "text": [
      "Mamy anomalie w miejscu:  8 \n",
      "Wartosc oczekiwana: < 0.48125000000000007 , 0.5312499999999999 >\n",
      "Wartosc w tym miejscu:  0.55 \n",
      "\n",
      "Mamy anomalie w miejscu:  12 \n",
      "Wartosc oczekiwana: < 0.5000000000000002 , 0.5999999999999999 >\n",
      "Wartosc w tym miejscu:  0.6 \n",
      "\n",
      "Mamy anomalie w miejscu:  15 \n",
      "Wartosc oczekiwana: < 0.47500000000000014 , 0.6749999999999998 >\n",
      "Wartosc w tym miejscu:  0.1 \n",
      "\n",
      "Mamy anomalie w miejscu:  21 \n",
      "Wartosc oczekiwana: < 0.6187499999999999 , 0.6687500000000002 >\n",
      "Wartosc w tym miejscu:  0.8 \n",
      "\n",
      "Mamy anomalie w miejscu:  22 \n",
      "Wartosc oczekiwana: < 0.59375 , 0.7437499999999999 >\n",
      "Wartosc w tym miejscu:  0.8 \n",
      "\n",
      "Mamy anomalie w miejscu:  24 \n",
      "Wartosc oczekiwana: < 0.425 , 1.0250000000000001 >\n",
      "Wartosc w tym miejscu:  5 \n",
      "\n"
     ]
    }
   ],
   "source": [
    "import numpy\n",
    "\n",
    "class qbs:\n",
    "    def __init__(self, Q1, Q3, IQR, min_, max_, anomalies):\n",
    "        self.Q1 = Q1;\n",
    "        self.Q3 = Q3;\n",
    "        self.IQR = IQR;\n",
    "        self.min_ = min_;\n",
    "        self.max_ = max_;\n",
    "        self.anomalies = [];\n",
    "        \n",
    "    def calculate_parameters(self, data):\n",
    "        self.Q1 = numpy.quantile(data, 0.25);\n",
    "        self.Q3 = numpy.quantile(data, 0.75);\n",
    "        self.IQR = self.Q3 - self.Q1;\n",
    "        self.max_ = (self.Q3 + 1.5 * self.IQR);\n",
    "        self.min_ = (self.Q1 - 1.5 * self.IQR);\n",
    "                \n",
    "def detect_anomalies(data, window_size):\n",
    "    for i in range(0, len(data)-window_size+1, 1):\n",
    "        current_data = [data [i:i+window_size] ]\n",
    "        q_b_s = qbs(0,0,0,0,0,0)  \n",
    "        q_b_s.calculate_parameters(current_data)\n",
    "        if(data[i+window_size-1] < q_b_s.min_ or data[i+window_size-1] > q_b_s.max_ and q_b_s.max_!=q_b_s.min_):\n",
    "            #anomaliesX.append(X_time[i + window_size])\n",
    "            #anomaliesY.append(data[i + window_size])\n",
    "            print(\"Mamy anomalie w miejscu: \",i+window_size,\"\\nWartosc oczekiwana: <\",q_b_s.min_,\",\",q_b_s.max_,\">\")\n",
    "            print(\"Wartosc w tym miejscu: \",data[i+window_size-1],\"\\n\")\n",
    "            q_b_s.anomalies.append([i+window_size-1, current_data[0][-1]])\n",
    "\n",
    "X=[0.5,0.5,0.5,0.5,0.5,0.5,0.55,0.55,0.55,0.55,0.6,0.6,0.6,0.6,0.1,0.65,0.65,0.65,0.65,0.65,0.8,0.8,0.8,5]\n",
    "\n",
    "detect_anomalies(X, 8)\n",
    "\n"
   ]
  },
  {
   "cell_type": "code",
   "execution_count": 6,
   "id": "f8815dc3",
   "metadata": {},
   "outputs": [
    {
     "name": "stdout",
     "output_type": "stream",
     "text": [
      "0.0\n",
      "0.0\n",
      "0.6744907594765952\n",
      "0.6744907594765952\n",
      "0.6744907594765952\n",
      "0.6744907594765952\n",
      "lower bound breach anomaly of rank  5  at  10 upper bound: 0.655 lower bound: 0.5449999999999999 value: 0.1\n",
      "upper bound breach anomaly of rank  2.0  at  16 upper bound: 0.7050000000000001 lower bound: 0.595 value: 0.8\n",
      "upper bound breach anomaly of rank  2.0  at  17 upper bound: 0.7050000000000001 lower bound: 0.595 value: 0.8\n",
      "upper bound breach anomaly of rank  5  at  19 upper bound: 0.8550000000000001 lower bound: 0.745 value: 5\n"
     ]
    }
   ],
   "source": [
    "import numpy\n",
    "\n",
    "clasif X[0][-1]>m.upperBound else 'lower bound breach','anomaly of rank ', m.degree if m.degree<5 else 5, ' at ', i,'upper bound:', m.upperBound,'lower bound:', m.lowerBound ,'value:', X[0][-1])\n",
    "\n",
    "X=[0.5,0.5,0.5,0.5,0.5,0.5,0.55,0.55,0.55,0.55,0.6,0.6,0.6,0.6,0.1,0.65,0.65,0.65,0.65,0.65,0.8,0.8,0.8,5]\n",
    "#X=[0.5,0.5,0.5,0.5,0.5,0.5,0.5,0.5,0.5,0.5,0.5,10,0.5,0.5,0.5,0.5,0.5,0.5,0.5,0.5,0.5,0.5,0.5,0.5,5]\n",
    "#X=[1.0,2.0,2.5,4.0,5.0,5.0,100]\n",
    "\n",
    "runMAD_onData(X, 5, 10)"
   ]
  },
  {
   "cell_type": "code",
   "execution_count": null,
   "id": "f5e39e9d",
   "metadata": {},
   "outputs": [],
   "source": []
  }
 ],
 "metadata": {
  "kernelspec": {
   "display_name": "Python 3",
   "language": "python",
   "name": "python3"
  },
  "language_info": {
   "codemirror_mode": {
    "name": "ipython",
    "version": 3
   },
   "file_extension": ".py",
   "mimetype": "text/x-python",
   "name": "python",
   "nbconvert_exporter": "python",
   "pygments_lexer": "ipython3",
   "version": "3.8.8"
  }
 },
 "nbformat": 4,
 "nbformat_minor": 5
}
