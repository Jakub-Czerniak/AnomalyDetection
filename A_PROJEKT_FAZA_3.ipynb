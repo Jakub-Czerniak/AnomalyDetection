{
 "cells": [
  {
   "cell_type": "code",
   "execution_count": 13,
   "id": "38e8c4d9",
   "metadata": {},
   "outputs": [
    {
     "data": {
      "image/png": "[encoded data removed]",
      "text/plain": [
       "<Figure size 432x288 with 1 Axes>"
      ]
     },
     "metadata": {
      "needs_background": "light"
     },
     "output_type": "display_data"
    },
    {
     "data": {
      "image/png": "[encoded data removed]",
      "text/plain": [
       "<Figure size 432x288 with 1 Axes>"
      ]
     },
     "metadata": {
      "needs_background": "light"
     },
     "output_type": "display_data"
    }
   ],
   "source": [
    "import numpy\n",
    "import random\n",
    "import csv\n",
    "import matplotlib.pyplot as plt\n",
    "\n",
    "class qbs:\n",
    "    def __init__(self, Q1, Q3, IQR, min_, max_, anomalies):\n",
    "        self.Q1 = Q1;\n",
    "        self.Q3 = Q3;\n",
    "        self.IQR = IQR;\n",
    "        self.min_ = min_;\n",
    "        self.max_ = max_;\n",
    "        self.anomalies = [];\n",
    "        \n",
    "    def calculate_parameters(self, data):\n",
    "        self.Q1 = numpy.quantile(data, 0.25);\n",
    "        self.Q3 = numpy.quantile(data, 0.75);\n",
    "        self.IQR = self.Q3 - self.Q1;\n",
    "        self.max_ = self.Q3 + 1.5 * self.IQR;\n",
    "        self.min_ = self.Q1 - 1.5 * self.IQR;\n",
    "       \n",
    "    def detect_anomalies(self, data, window_size):\n",
    "        for i in range(0, len(data)-window_size+1, 1):\n",
    "            current_data = [data [i:i+window_size] ]\n",
    "            self.calculate_parameters(current_data)\n",
    "            if(data[i+window_size-1] < self.min_ or data[i+window_size-1] > self.max_ and self.max_!=self.min_):\n",
    "                #print(\"Mamy anomalie w miejscu: \",i+window_size-1,\"\\nWartosc oczekiwana: <\",self.min_,\",\",self.max_,\">\")\n",
    "                #print(\"Wartosc w tym miejscu: \",data[i+window_size-1],\"\\n\")\n",
    "                self.anomalies.append([i+window_size-1, data[i+window_size-1]])\n",
    "        \n",
    "x = qbs(0,0,0,0,0,0)  \n",
    "\n",
    "with open('Budynek_1_woda_historia.csv') as file:\n",
    "    reader = csv.reader(file)\n",
    "    data = numpy.zeros(25002)  \n",
    "    count = 0\n",
    "    i=0\n",
    "    for row in reader:\n",
    "        data[i] = row[0][29:36]\n",
    "        i+=1\n",
    "        if count >25000:\n",
    "            break\n",
    "        count+=1\n",
    "            \n",
    "y1 = x.detect_anomalies(data, 1000)\n",
    "\n",
    "t = numpy.arange(0, 25002)\n",
    "plt.plot(t, data)\n",
    "for i in range(0, len(x.anomalies)):\n",
    "    plt.plot(x.anomalies[i][0], x.anomalies[i][1], 'ro')\n",
    "plt.show()\n",
    "\n",
    "\n",
    "with open('Budynek_1_woda_przyklad.csv') as file:\n",
    "    reader = csv.reader(file)\n",
    "    data = numpy.zeros(25002)  \n",
    "    count = 0\n",
    "    i=0\n",
    "    for row in reader:\n",
    "        data[i] = row[0][29:36]\n",
    "        i+=1\n",
    "        if count >25000:\n",
    "            break\n",
    "        count+=1\n",
    "            \n",
    "x = qbs(0,0,0,0,0,0)  \n",
    "y2 = x.detect_anomalies(data, 700) \n",
    "t = numpy.arange(0, 25002)\n",
    "plt.plot(t, data)\n",
    "for i in range(0, len(x.anomalies)):\n",
    "    plt.plot(x.anomalies[i][0], x.anomalies[i][1], 'ro')\n",
    "plt.show()\n"
   ]
  },
  {
   "cell_type": "code",
   "execution_count": null,
   "id": "b9283e85",
   "metadata": {},
   "outputs": [],
   "source": []
  },
  {
   "cell_type": "code",
   "execution_count": null,
   "id": "b863445f",
   "metadata": {},
   "outputs": [],
   "source": []
  }
 ],
 "metadata": {
  "kernelspec": {
   "display_name": "Python 3",
   "language": "python",
   "name": "python3"
  },
  "language_info": {
   "codemirror_mode": {
    "name": "ipython",
    "version": 3
   },
   "file_extension": ".py",
   "mimetype": "text/x-python",
   "name": "python",
   "nbconvert_exporter": "python",
   "pygments_lexer": "ipython3",
   "version": "3.8.8"
  }
 },
 "nbformat": 4,
 "nbformat_minor": 5
}
